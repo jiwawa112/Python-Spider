{
 "cells": [
  {
   "cell_type": "markdown",
   "metadata": {},
   "source": [
    "### 实现爬虫的流程\n",
    "#### url\n",
    "+ (1)准备start_url(url地址规律不明显，总数不确定) \n",
    "+ 通过代码提取下一页的url(寻找url地址，部分参数在当前的响应中) <br><br>\n",
    "+ (2)准备url_list（页码总数明确、url地址规律明显）\n",
    "\n",
    "#### 发送请求，获取响应\n",
    "+ 添加随机的User-Agent,反反爬虫\n",
    "+ 添加随机的代理ip,反反爬虫\n",
    "+ 在对方判断出我们是爬虫之后，应该添加更多的headers字段,包括cookie\n",
    "+ cookie的处理可以使用session解决(准备一堆能用的cookie，组成cookie池)\n",
    "+ 如果不登陆:准备刚开始能成功请求对方网站的cookie,接收对方网站设置在response的cookie,下一次请求时，使用之前的列表中的cookie登陆<br><br>\n",
    "+ 如果登陆：准备多个账号，使用程序获取每个账号的cookie，之后请求登陆之后才能访问的网站随机选择cookie\n",
    "\n",
    "#### 提取数据\n",
    "+ 确定数据的位置\n",
    "+ 如果数据在当前的url地址中，提取的时列表页的数据，直接请求列表页的url地址，不用进入详情页<br><br>\n",
    "+ 提取的时详情页的数据\n",
    "+ 1.确定url\n",
    "+ 2.发送请求\n",
    "+ 3.提取数据\n",
    "+ 4.返回数据<br><br>\n",
    "\n",
    "+ 如果数据不在当前的url地址中，在其他响应中，寻找数据的位置\n",
    "+ 1.从network中找\n",
    "+ 2.使用chrome的search all file，搜索数字和英文<br><br>\n",
    "\n",
    "+ 数据的提取\n",
    "+ xpath,从html中提取整块的数据，先分组，之后每一组提取\n",
    "+ json\n",
    "+ re,提取max_timemprice,html中的json字符串\n",
    "\n",
    "#### 保存\n",
    "+ 保存在本地,text,json,csv\n",
    "+ 保存在数据库"
   ]
  },
  {
   "cell_type": "markdown",
   "metadata": {},
   "source": [
    "#### 爬虫建议\n",
    "#### 尽量减少请求次数\n",
    "+ 1.能抓列表页就不抓详情页\n",
    "+ 2.保存获取到的html页面，供差错和重复请求使用\n",
    "\n",
    "#### 关注网站的所有类型页面\n",
    "+ 1.wap页面，触屏版页面\n",
    "+ 2.H5页面\n",
    "+ 3.APP\n",
    "\n",
    "#### 伪装\n",
    "+ 1.动态的UA\n",
    "+ 2.代理IP\n",
    "+ 3.不使用cookie\n",
    "\n",
    "#### 多线程分布式\n",
    "+ 在不被ban的情况下尽可能提高速度"
   ]
  },
  {
   "cell_type": "code",
   "execution_count": null,
   "metadata": {},
   "outputs": [],
   "source": []
  }
 ],
 "metadata": {
  "kernelspec": {
   "display_name": "Python 3",
   "language": "python",
   "name": "python3"
  },
  "language_info": {
   "codemirror_mode": {
    "name": "ipython",
    "version": 3
   },
   "file_extension": ".py",
   "mimetype": "text/x-python",
   "name": "python",
   "nbconvert_exporter": "python",
   "pygments_lexer": "ipython3",
   "version": "3.7.0"
  },
  "toc": {
   "base_numbering": 1,
   "nav_menu": {},
   "number_sections": true,
   "sideBar": true,
   "skip_h1_title": false,
   "title_cell": "Table of Contents",
   "title_sidebar": "Contents",
   "toc_cell": false,
   "toc_position": {},
   "toc_section_display": true,
   "toc_window_display": false
  }
 },
 "nbformat": 4,
 "nbformat_minor": 2
}
